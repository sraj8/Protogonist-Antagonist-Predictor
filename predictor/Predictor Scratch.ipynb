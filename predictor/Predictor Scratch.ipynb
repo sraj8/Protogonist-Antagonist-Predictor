{
 "cells": [
  {
   "cell_type": "code",
   "execution_count": 562,
   "metadata": {
    "scrolled": false
   },
   "outputs": [],
   "source": [
    "import numpy as np\n",
    "import matplotlib.pyplot as plt\n",
    "import modules.common_func as common\n",
    "import importlib\n",
    "\n",
    "importlib.reload(modules.common_func)\n",
    "\n",
    "root = '/home/shail/work/UIC/snlp/predictor/Data/dialogs'\n",
    "name1 = '/Adventure/indianajonesandtheraidersofthelostark_dialog.txt'\n",
    "name2 = '/Mystery/afewgoodmen_dialog.txt'\n",
    "h1 = 'INDY'\n",
    "v1 = 'BELLOQ'\n",
    "h2 = 'KAFFEE'\n",
    "v2 = 'JESSEP'\n",
    "pattern = \"*.txt\"\n",
    "\n",
    "script1 = common.readFile(root + name1)\n",
    "script2 = common.readFile(root + name2)\n",
    "\n",
    "split_movie1 = common.cleanSplitScript(script1)\n",
    "split_movie2 = common.cleanSplitScript(script2)\n",
    "\n",
    "#print(script1)\n",
    "#print(split_movie2)"
   ]
  },
  {
   "cell_type": "code",
   "execution_count": 563,
   "metadata": {
    "scrolled": true
   },
   "outputs": [
    {
     "data": {
      "text/html": [
       "<div>\n",
       "<style>\n",
       "    .dataframe thead tr:only-child th {\n",
       "        text-align: right;\n",
       "    }\n",
       "\n",
       "    .dataframe thead th {\n",
       "        text-align: left;\n",
       "    }\n",
       "\n",
       "    .dataframe tbody tr th {\n",
       "        vertical-align: top;\n",
       "    }\n",
       "</style>\n",
       "<table border=\"1\" class=\"dataframe\">\n",
       "  <thead>\n",
       "    <tr style=\"text-align: right;\">\n",
       "      <th></th>\n",
       "      <th>char</th>\n",
       "      <th>movie</th>\n",
       "      <th>filename</th>\n",
       "      <th>label</th>\n",
       "    </tr>\n",
       "  </thead>\n",
       "  <tbody>\n",
       "    <tr>\n",
       "      <th>0</th>\n",
       "      <td>INDY</td>\n",
       "      <td>Raiders of the Lost Ark</td>\n",
       "      <td>Data/dialogs/Adventure/indianajonesandtheraide...</td>\n",
       "      <td>1</td>\n",
       "    </tr>\n",
       "    <tr>\n",
       "      <th>1</th>\n",
       "      <td>CLARICE</td>\n",
       "      <td>The Silence of the Lambs</td>\n",
       "      <td>Data/dialogs/Thriller/silenceofthelambs_dialog...</td>\n",
       "      <td>1</td>\n",
       "    </tr>\n",
       "    <tr>\n",
       "      <th>2</th>\n",
       "      <td>ROCKY</td>\n",
       "      <td>Rocky</td>\n",
       "      <td>Data/dialogs/Drama/rocky_dialog.txt</td>\n",
       "      <td>1</td>\n",
       "    </tr>\n",
       "    <tr>\n",
       "      <th>3</th>\n",
       "      <td>RIPLEY</td>\n",
       "      <td>Aliens</td>\n",
       "      <td>Data/dialogs/Sci-Fi/aliens_dialog.txt</td>\n",
       "      <td>1</td>\n",
       "    </tr>\n",
       "    <tr>\n",
       "      <th>4</th>\n",
       "      <td>BAILEY</td>\n",
       "      <td>It's a Wonderful Life</td>\n",
       "      <td>Data/dialogs/Romance/itsawonderfullife_dialog.txt</td>\n",
       "      <td>1</td>\n",
       "    </tr>\n",
       "    <tr>\n",
       "      <th>5</th>\n",
       "      <td>TOM</td>\n",
       "      <td>The Grapes of Wrath</td>\n",
       "      <td>Data/dialogs/Drama/grapesofwraththe_dialog.txt</td>\n",
       "      <td>1</td>\n",
       "    </tr>\n",
       "    <tr>\n",
       "      <th>6</th>\n",
       "      <td>SCHINDLER</td>\n",
       "      <td>Schindler's List</td>\n",
       "      <td>Data/dialogs/War/schindlerslist_dialog.txt</td>\n",
       "      <td>1</td>\n",
       "    </tr>\n",
       "    <tr>\n",
       "      <th>7</th>\n",
       "      <td>HAN</td>\n",
       "      <td>Star Wars</td>\n",
       "      <td>Data/dialogs/Sci-Fi/starwarstheempirestrikesba...</td>\n",
       "      <td>1</td>\n",
       "    </tr>\n",
       "    <tr>\n",
       "      <th>8</th>\n",
       "      <td>GANDHI</td>\n",
       "      <td>Gandhi</td>\n",
       "      <td>Data/dialogs/Drama/gandhi_dialog.txt</td>\n",
       "      <td>1</td>\n",
       "    </tr>\n",
       "    <tr>\n",
       "      <th>9</th>\n",
       "      <td>LOUISE</td>\n",
       "      <td>Thelma &amp; Louise</td>\n",
       "      <td>Data/dialogs/Thriller/thelmalouise_dialog.txt</td>\n",
       "      <td>1</td>\n",
       "    </tr>\n",
       "    <tr>\n",
       "      <th>10</th>\n",
       "      <td>THELMA</td>\n",
       "      <td>Thelma &amp; Louise</td>\n",
       "      <td>Data/dialogs/Thriller/thelmalouise_dialog.txt</td>\n",
       "      <td>1</td>\n",
       "    </tr>\n",
       "    <tr>\n",
       "      <th>11</th>\n",
       "      <td>WOODWARD</td>\n",
       "      <td>All the President's Men</td>\n",
       "      <td>Data/dialogs/Thriller/allthepresidentsmen_dial...</td>\n",
       "      <td>1</td>\n",
       "    </tr>\n",
       "    <tr>\n",
       "      <th>12</th>\n",
       "      <td>BERNSTEIN</td>\n",
       "      <td>All the President's Men</td>\n",
       "      <td>Data/dialogs/Thriller/allthepresidentsmen_dial...</td>\n",
       "      <td>1</td>\n",
       "    </tr>\n",
       "    <tr>\n",
       "      <th>13</th>\n",
       "      <td>ERIN</td>\n",
       "      <td>Erin Brockovich</td>\n",
       "      <td>Data/dialogs/Drama/erinbrockovich_dialog.txt</td>\n",
       "      <td>1</td>\n",
       "    </tr>\n",
       "    <tr>\n",
       "      <th>14</th>\n",
       "      <td>OBI-WAN</td>\n",
       "      <td>Star Wars</td>\n",
       "      <td>Data/dialogs/Sci-Fi/starwarsattackoftheclones_...</td>\n",
       "      <td>1</td>\n",
       "    </tr>\n",
       "    <tr>\n",
       "      <th>15</th>\n",
       "      <td>DOYLE</td>\n",
       "      <td>The French Connection</td>\n",
       "      <td>Data/dialogs/Thriller/frenchconnectionthe_dial...</td>\n",
       "      <td>1</td>\n",
       "    </tr>\n",
       "    <tr>\n",
       "      <th>16</th>\n",
       "      <td>BATMAN</td>\n",
       "      <td>Batman</td>\n",
       "      <td>Data/dialogs/Action/batman_dialog.txt</td>\n",
       "      <td>1</td>\n",
       "    </tr>\n",
       "    <tr>\n",
       "      <th>17</th>\n",
       "      <td>ANDREW</td>\n",
       "      <td>Philadelphia</td>\n",
       "      <td>Data/dialogs/Drama/philadelphia_dialog.txt</td>\n",
       "      <td>1</td>\n",
       "    </tr>\n",
       "    <tr>\n",
       "      <th>18</th>\n",
       "      <td>MAXIMUS</td>\n",
       "      <td>Gladiator</td>\n",
       "      <td>Data/dialogs/Drama/gladiator_dialog.txt</td>\n",
       "      <td>1</td>\n",
       "    </tr>\n",
       "    <tr>\n",
       "      <th>19</th>\n",
       "      <td>DR. LECTER</td>\n",
       "      <td>The Silence of the Lambs</td>\n",
       "      <td>Data/dialogs/Thriller/silenceofthelambs_dialog...</td>\n",
       "      <td>0</td>\n",
       "    </tr>\n",
       "    <tr>\n",
       "      <th>20</th>\n",
       "      <td>NORMAN</td>\n",
       "      <td>Psycho</td>\n",
       "      <td>Data/dialogs/Thriller/psycho_dialog.txt</td>\n",
       "      <td>0</td>\n",
       "    </tr>\n",
       "    <tr>\n",
       "      <th>21</th>\n",
       "      <td>VADER</td>\n",
       "      <td>The Empire Strikes Back</td>\n",
       "      <td>Data/dialogs/Sci-Fi/starwarstheempirestrikesba...</td>\n",
       "      <td>0</td>\n",
       "    </tr>\n",
       "    <tr>\n",
       "      <th>22</th>\n",
       "      <td>WITCH</td>\n",
       "      <td>The Wizard of Oz</td>\n",
       "      <td>Data/dialogs/Fantasy/wizardofozthe_dialog.txt</td>\n",
       "      <td>0</td>\n",
       "    </tr>\n",
       "    <tr>\n",
       "      <th>23</th>\n",
       "      <td>BIG NURSE</td>\n",
       "      <td>One Flew Over the Cuckoo's Nest</td>\n",
       "      <td>Data/dialogs/Drama/oneflewoverthecuckoosnest_d...</td>\n",
       "      <td>0</td>\n",
       "    </tr>\n",
       "    <tr>\n",
       "      <th>24</th>\n",
       "      <td>POTTER</td>\n",
       "      <td>It's a Wonderful Life</td>\n",
       "      <td>Data/dialogs/Romance/itsawonderfullife_dialog.txt</td>\n",
       "      <td>0</td>\n",
       "    </tr>\n",
       "    <tr>\n",
       "      <th>25</th>\n",
       "      <td>PHYLLIS</td>\n",
       "      <td>Double Indemnity</td>\n",
       "      <td>Data/dialogs/Film-Noir/doubleindemnity_dialog.txt</td>\n",
       "      <td>0</td>\n",
       "    </tr>\n",
       "    <tr>\n",
       "      <th>26</th>\n",
       "      <td>MICHAEL</td>\n",
       "      <td>The Godfather Part II</td>\n",
       "      <td>Data/dialogs/Drama/godfatherpartii_dialog.txt</td>\n",
       "      <td>0</td>\n",
       "    </tr>\n",
       "    <tr>\n",
       "      <th>27</th>\n",
       "      <td>HAL</td>\n",
       "      <td>2001: A Space Odyssey</td>\n",
       "      <td>Data/dialogs/Sci-Fi/2001aspaceodyssey_dialog.txt</td>\n",
       "      <td>0</td>\n",
       "    </tr>\n",
       "    <tr>\n",
       "      <th>28</th>\n",
       "      <td>GOETH</td>\n",
       "      <td>Schindler's List</td>\n",
       "      <td>Data/dialogs/War/schindlerslist_dialog.txt</td>\n",
       "      <td>0</td>\n",
       "    </tr>\n",
       "    <tr>\n",
       "      <th>29</th>\n",
       "      <td>CROSS</td>\n",
       "      <td>Chinatown</td>\n",
       "      <td>Data/dialogs/Thriller/chinatown_dialog.txt</td>\n",
       "      <td>0</td>\n",
       "    </tr>\n",
       "    <tr>\n",
       "      <th>30</th>\n",
       "      <td>ANNIE</td>\n",
       "      <td>Misery</td>\n",
       "      <td>Data/dialogs/Thriller/misery_dialog.txt</td>\n",
       "      <td>0</td>\n",
       "    </tr>\n",
       "    <tr>\n",
       "      <th>31</th>\n",
       "      <td>TERMINATOR</td>\n",
       "      <td>The Terminator</td>\n",
       "      <td>Data/dialogs/Thriller/terminator_dialog.txt</td>\n",
       "      <td>0</td>\n",
       "    </tr>\n",
       "    <tr>\n",
       "      <th>32</th>\n",
       "      <td>EVE</td>\n",
       "      <td>All About Eve</td>\n",
       "      <td>Data/dialogs/Drama/allabouteve_dialog.txt</td>\n",
       "      <td>0</td>\n",
       "    </tr>\n",
       "    <tr>\n",
       "      <th>33</th>\n",
       "      <td>GEKKO</td>\n",
       "      <td>Wall Street</td>\n",
       "      <td>Data/dialogs/Drama/wallstreet_dialog.txt</td>\n",
       "      <td>0</td>\n",
       "    </tr>\n",
       "    <tr>\n",
       "      <th>34</th>\n",
       "      <td>JACK</td>\n",
       "      <td>The Shining</td>\n",
       "      <td>Data/dialogs/Horror/shiningthe_dialog.txt</td>\n",
       "      <td>0</td>\n",
       "    </tr>\n",
       "    <tr>\n",
       "      <th>35</th>\n",
       "      <td>TRAVIS</td>\n",
       "      <td>Taxi Driver</td>\n",
       "      <td>Data/dialogs/Thriller/taxidriver_dialog.txt</td>\n",
       "      <td>0</td>\n",
       "    </tr>\n",
       "    <tr>\n",
       "      <th>36</th>\n",
       "      <td>HUNSECKER</td>\n",
       "      <td>Sweet Smell of Success</td>\n",
       "      <td>Data/dialogs/Film-Noir/sweetsmellofsuccess_dia...</td>\n",
       "      <td>0</td>\n",
       "    </tr>\n",
       "    <tr>\n",
       "      <th>37</th>\n",
       "      <td>FRANK</td>\n",
       "      <td>Blue Velvet</td>\n",
       "      <td>Data/dialogs/Thriller/bluevelvet_dialog.txt</td>\n",
       "      <td>0</td>\n",
       "    </tr>\n",
       "    <tr>\n",
       "      <th>38</th>\n",
       "      <td>FREDDY</td>\n",
       "      <td>A Nightmare on Elm Street</td>\n",
       "      <td>Data/dialogs/Mystery/nightmareonelmstreeta_dia...</td>\n",
       "      <td>0</td>\n",
       "    </tr>\n",
       "    <tr>\n",
       "      <th>39</th>\n",
       "      <td>JOKER</td>\n",
       "      <td>Batman</td>\n",
       "      <td>Data/dialogs/Action/batman_dialog.txt</td>\n",
       "      <td>0</td>\n",
       "    </tr>\n",
       "    <tr>\n",
       "      <th>40</th>\n",
       "      <td>HANS</td>\n",
       "      <td>Die Hard</td>\n",
       "      <td>Data/dialogs/Action/diehard_dialog.txt</td>\n",
       "      <td>0</td>\n",
       "    </tr>\n",
       "    <tr>\n",
       "      <th>41</th>\n",
       "      <td>TONY</td>\n",
       "      <td>Scarface</td>\n",
       "      <td>Data/dialogs/Drama/scarface_dialog.txt</td>\n",
       "      <td>0</td>\n",
       "    </tr>\n",
       "    <tr>\n",
       "      <th>42</th>\n",
       "      <td>VERBAL</td>\n",
       "      <td>The Usual Suspects</td>\n",
       "      <td>Data/dialogs/Thriller/usualsuspectsthe_dialog.txt</td>\n",
       "      <td>0</td>\n",
       "    </tr>\n",
       "  </tbody>\n",
       "</table>\n",
       "</div>"
      ],
      "text/plain": [
       "          char                            movie  \\\n",
       "0         INDY          Raiders of the Lost Ark   \n",
       "1      CLARICE         The Silence of the Lambs   \n",
       "2        ROCKY                            Rocky   \n",
       "3       RIPLEY                           Aliens   \n",
       "4       BAILEY            It's a Wonderful Life   \n",
       "5          TOM              The Grapes of Wrath   \n",
       "6    SCHINDLER                 Schindler's List   \n",
       "7          HAN                        Star Wars   \n",
       "8       GANDHI                           Gandhi   \n",
       "9       LOUISE                  Thelma & Louise   \n",
       "10      THELMA                  Thelma & Louise   \n",
       "11    WOODWARD          All the President's Men   \n",
       "12   BERNSTEIN          All the President's Men   \n",
       "13        ERIN                  Erin Brockovich   \n",
       "14     OBI-WAN                        Star Wars   \n",
       "15       DOYLE            The French Connection   \n",
       "16      BATMAN                           Batman   \n",
       "17      ANDREW                     Philadelphia   \n",
       "18     MAXIMUS                        Gladiator   \n",
       "19  DR. LECTER         The Silence of the Lambs   \n",
       "20      NORMAN                           Psycho   \n",
       "21       VADER          The Empire Strikes Back   \n",
       "22       WITCH                 The Wizard of Oz   \n",
       "23   BIG NURSE  One Flew Over the Cuckoo's Nest   \n",
       "24      POTTER            It's a Wonderful Life   \n",
       "25     PHYLLIS                 Double Indemnity   \n",
       "26     MICHAEL            The Godfather Part II   \n",
       "27         HAL            2001: A Space Odyssey   \n",
       "28       GOETH                 Schindler's List   \n",
       "29       CROSS                        Chinatown   \n",
       "30       ANNIE                           Misery   \n",
       "31  TERMINATOR                   The Terminator   \n",
       "32         EVE                    All About Eve   \n",
       "33       GEKKO                      Wall Street   \n",
       "34        JACK                      The Shining   \n",
       "35      TRAVIS                      Taxi Driver   \n",
       "36   HUNSECKER           Sweet Smell of Success   \n",
       "37       FRANK                      Blue Velvet   \n",
       "38      FREDDY        A Nightmare on Elm Street   \n",
       "39       JOKER                           Batman   \n",
       "40        HANS                         Die Hard   \n",
       "41        TONY                         Scarface   \n",
       "42      VERBAL               The Usual Suspects   \n",
       "\n",
       "                                             filename  label  \n",
       "0   Data/dialogs/Adventure/indianajonesandtheraide...      1  \n",
       "1   Data/dialogs/Thriller/silenceofthelambs_dialog...      1  \n",
       "2                 Data/dialogs/Drama/rocky_dialog.txt      1  \n",
       "3               Data/dialogs/Sci-Fi/aliens_dialog.txt      1  \n",
       "4   Data/dialogs/Romance/itsawonderfullife_dialog.txt      1  \n",
       "5      Data/dialogs/Drama/grapesofwraththe_dialog.txt      1  \n",
       "6          Data/dialogs/War/schindlerslist_dialog.txt      1  \n",
       "7   Data/dialogs/Sci-Fi/starwarstheempirestrikesba...      1  \n",
       "8                Data/dialogs/Drama/gandhi_dialog.txt      1  \n",
       "9       Data/dialogs/Thriller/thelmalouise_dialog.txt      1  \n",
       "10      Data/dialogs/Thriller/thelmalouise_dialog.txt      1  \n",
       "11  Data/dialogs/Thriller/allthepresidentsmen_dial...      1  \n",
       "12  Data/dialogs/Thriller/allthepresidentsmen_dial...      1  \n",
       "13       Data/dialogs/Drama/erinbrockovich_dialog.txt      1  \n",
       "14  Data/dialogs/Sci-Fi/starwarsattackoftheclones_...      1  \n",
       "15  Data/dialogs/Thriller/frenchconnectionthe_dial...      1  \n",
       "16              Data/dialogs/Action/batman_dialog.txt      1  \n",
       "17         Data/dialogs/Drama/philadelphia_dialog.txt      1  \n",
       "18            Data/dialogs/Drama/gladiator_dialog.txt      1  \n",
       "19  Data/dialogs/Thriller/silenceofthelambs_dialog...      0  \n",
       "20            Data/dialogs/Thriller/psycho_dialog.txt      0  \n",
       "21  Data/dialogs/Sci-Fi/starwarstheempirestrikesba...      0  \n",
       "22      Data/dialogs/Fantasy/wizardofozthe_dialog.txt      0  \n",
       "23  Data/dialogs/Drama/oneflewoverthecuckoosnest_d...      0  \n",
       "24  Data/dialogs/Romance/itsawonderfullife_dialog.txt      0  \n",
       "25  Data/dialogs/Film-Noir/doubleindemnity_dialog.txt      0  \n",
       "26      Data/dialogs/Drama/godfatherpartii_dialog.txt      0  \n",
       "27   Data/dialogs/Sci-Fi/2001aspaceodyssey_dialog.txt      0  \n",
       "28         Data/dialogs/War/schindlerslist_dialog.txt      0  \n",
       "29         Data/dialogs/Thriller/chinatown_dialog.txt      0  \n",
       "30            Data/dialogs/Thriller/misery_dialog.txt      0  \n",
       "31        Data/dialogs/Thriller/terminator_dialog.txt      0  \n",
       "32          Data/dialogs/Drama/allabouteve_dialog.txt      0  \n",
       "33           Data/dialogs/Drama/wallstreet_dialog.txt      0  \n",
       "34          Data/dialogs/Horror/shiningthe_dialog.txt      0  \n",
       "35        Data/dialogs/Thriller/taxidriver_dialog.txt      0  \n",
       "36  Data/dialogs/Film-Noir/sweetsmellofsuccess_dia...      0  \n",
       "37        Data/dialogs/Thriller/bluevelvet_dialog.txt      0  \n",
       "38  Data/dialogs/Mystery/nightmareonelmstreeta_dia...      0  \n",
       "39              Data/dialogs/Action/batman_dialog.txt      0  \n",
       "40             Data/dialogs/Action/diehard_dialog.txt      0  \n",
       "41             Data/dialogs/Drama/scarface_dialog.txt      0  \n",
       "42  Data/dialogs/Thriller/usualsuspectsthe_dialog.txt      0  "
      ]
     },
     "execution_count": 563,
     "metadata": {},
     "output_type": "execute_result"
    }
   ],
   "source": [
    "import pandas as pd\n",
    "\n",
    "project_root = '/home/shail/work/UIC/snlp/predictor/'\n",
    "data = pd.read_csv(project_root + 'Data/labels.csv')\n",
    "data"
   ]
  },
  {
   "cell_type": "code",
   "execution_count": 564,
   "metadata": {
    "scrolled": true
   },
   "outputs": [],
   "source": [
    "# data['script'] = common.readFile(project_root + df['filename'])\n",
    "data['dialogs'] = data.apply (lambda row: common.cleanSplitScript(common.readFile(project_root + row['filename'])), axis=1)\n",
    "\n",
    "dialogs = []\n",
    "for index, row in data.iterrows():\n",
    "    scene_group = common.catScenes(row['dialogs'])\n",
    "    scene_proc = common.catSceneDialogs(scene_group)\n",
    "    scene_flat = common.flatProcSceneDialogs(scene_proc)\n",
    "    mchar = common.getCharDialog(scene_flat, row['char'])\n",
    "    dialogs.append(common.concatDFColumn(mchar, 'dialogue'))\n",
    "\n",
    "data['dialogs'] = dialogs"
   ]
  },
  {
   "cell_type": "code",
   "execution_count": 458,
   "metadata": {
    "scrolled": true
   },
   "outputs": [],
   "source": [
    "scene_proc1 = common.catSceneDialogs(scene_groups1)\n",
    "scene_proc2 = common.catSceneDialogs(scene_groups2)"
   ]
  },
  {
   "cell_type": "code",
   "execution_count": 16,
   "metadata": {
    "scrolled": true
   },
   "outputs": [],
   "source": [
    "data1 = common.flatProcSceneDialogs(scene_proc1)\n",
    "data2 = common.flatProcSceneDialogs(scene_proc2)"
   ]
  },
  {
   "cell_type": "code",
   "execution_count": 457,
   "metadata": {
    "scrolled": true
   },
   "outputs": [],
   "source": [
    "m1char1 = common.getCharDialog(data1, h1)\n",
    "m1char2 = common.getCharDialog(data1, v1)\n",
    "m2char1 = common.getCharDialog(data2, h2)\n",
    "m2char2 = common.getCharDialog(data2, v2)"
   ]
  },
  {
   "cell_type": "code",
   "execution_count": 456,
   "metadata": {
    "scrolled": true
   },
   "outputs": [],
   "source": [
    "dia_h1 = common.concatDFColumn(m1char1, 'dialogue')\n",
    "dia_v1 = common.concatDFColumn(m1char2, 'dialogue')\n",
    "dia_h2 = common.concatDFColumn(m2char1, 'dialogue')\n",
    "dia_v2 = common.concatDFColumn(m2char2, 'dialogue')"
   ]
  },
  {
   "cell_type": "code",
   "execution_count": 623,
   "metadata": {},
   "outputs": [
    {
     "data": {
      "text/plain": [
       "[['the', 99],\n",
       " ['i', 79],\n",
       " ['you', 61],\n",
       " ['to', 53],\n",
       " ['it', 47],\n",
       " ['that', 37],\n",
       " ['s', 37],\n",
       " ['a', 37],\n",
       " ['of', 36],\n",
       " ['t', 33],\n",
       " ['in', 26],\n",
       " ['what', 24],\n",
       " ['be', 23],\n",
       " ['get', 21],\n",
       " ['we', 20],\n",
       " ['don', 18],\n",
       " ['and', 17],\n",
       " ['ll', 16],\n",
       " ['here', 16],\n",
       " ['they', 15],\n",
       " ['ark', 14],\n",
       " ['this', 12],\n",
       " ['is', 12],\n",
       " ['do', 12],\n",
       " ['can', 12],\n",
       " ['out', 12],\n",
       " ['on', 12],\n",
       " ['your', 12],\n",
       " ['have', 11],\n",
       " ['m', 11],\n",
       " ['for', 11],\n",
       " ['where', 10],\n",
       " ['he', 10],\n",
       " ['was', 10],\n",
       " ['had', 10],\n",
       " ['back', 10],\n",
       " ['now', 10],\n",
       " ['me', 10],\n",
       " ['re', 10],\n",
       " ['go', 9],\n",
       " ['know', 9],\n",
       " ['like', 9],\n",
       " ['belloq', 9],\n",
       " ['going', 9],\n",
       " ['all', 9],\n",
       " ['time', 9],\n",
       " ['about', 9],\n",
       " ['at', 9],\n",
       " ['got', 8],\n",
       " ['let', 8],\n",
       " ['want', 8],\n",
       " ['look', 8],\n",
       " ['down', 8],\n",
       " ['are', 8],\n",
       " ['marion', 8],\n",
       " ['no', 7],\n",
       " ['if', 7],\n",
       " ['would', 7],\n",
       " ['there', 7],\n",
       " ['just', 7],\n",
       " ['staff', 7],\n",
       " ['why', 7],\n",
       " ['come', 7],\n",
       " ['up', 7],\n",
       " ['did', 7],\n",
       " ['ve', 6],\n",
       " ['not', 6],\n",
       " ['then', 6],\n",
       " ['when', 6],\n",
       " ['them', 5],\n",
       " ['us', 5],\n",
       " ['good', 5],\n",
       " ['one', 5],\n",
       " ['bad', 5],\n",
       " ['away', 5],\n",
       " ['from', 5],\n",
       " ['tanis', 5],\n",
       " ['only', 5],\n",
       " ['with', 5],\n",
       " ['well', 5],\n",
       " ['souls', 5],\n",
       " ['map', 5],\n",
       " ['god', 5],\n",
       " ['find', 5],\n",
       " ['my', 5],\n",
       " ['aren', 5],\n",
       " ['need', 4],\n",
       " ['by', 4],\n",
       " ['see', 4],\n",
       " ['touch', 4],\n",
       " ['too', 4],\n",
       " ['snakes', 4],\n",
       " ['those', 4],\n",
       " ['him', 4],\n",
       " ['right', 4],\n",
       " ['headpiece', 4],\n",
       " ['an', 4],\n",
       " ['but', 4],\n",
       " ['before', 4],\n",
       " ['really', 4],\n",
       " ['way', 4],\n",
       " ['sun', 4],\n",
       " ['take', 4],\n",
       " ['room', 4],\n",
       " ['floor', 4],\n",
       " ['yes', 4],\n",
       " ['okay', 4],\n",
       " ['maybe', 4],\n",
       " ['sallah', 4],\n",
       " ['anything', 4],\n",
       " ['leave', 3],\n",
       " ['able', 3],\n",
       " ['plane', 3],\n",
       " ['knew', 3],\n",
       " ['were', 3],\n",
       " ['already', 3],\n",
       " ['so', 3],\n",
       " ['little', 3],\n",
       " ['thing', 3],\n",
       " ['getting', 3],\n",
       " ['hope', 3],\n",
       " ['thanks', 3],\n",
       " ['wrong', 3],\n",
       " ['nods', 3],\n",
       " ['haven', 3],\n",
       " ['ravenwood', 3],\n",
       " ['half', 3],\n",
       " ['other', 3],\n",
       " ['which', 3],\n",
       " ['oh', 3],\n",
       " ['say', 3],\n",
       " ['nazis', 3],\n",
       " ['thought', 3],\n",
       " ['who', 3],\n",
       " ['will', 3],\n",
       " ['piece', 3],\n",
       " ['think', 3],\n",
       " ['father', 3],\n",
       " ['doing', 3],\n",
       " ['states', 3],\n",
       " ['hurt', 3],\n",
       " ['off', 3],\n",
       " ['tell', 3],\n",
       " ['even', 3],\n",
       " ['talk', 3],\n",
       " ['dead', 3],\n",
       " ['how', 3],\n",
       " ['keep', 3],\n",
       " ['girl', 3],\n",
       " ['forrestal', 2],\n",
       " ['very', 2],\n",
       " ['ever', 2],\n",
       " ['try', 2],\n",
       " ['scares', 2],\n",
       " ['doesn', 2],\n",
       " ['indians', 2],\n",
       " ['kind', 2],\n",
       " ['ten', 2],\n",
       " ['bit', 2],\n",
       " ['last', 2],\n",
       " ['heard', 2],\n",
       " ['nazi', 2],\n",
       " ['looking', 2],\n",
       " ['ra', 2],\n",
       " ['has', 2],\n",
       " ['army', 2],\n",
       " ['hebrews', 2],\n",
       " ['pharaoh', 2],\n",
       " ['city', 2],\n",
       " ['short', 2],\n",
       " ['later', 2],\n",
       " ['desert', 2],\n",
       " ['comes', 2],\n",
       " ['big', 2],\n",
       " ['indicates', 2],\n",
       " ['knows', 2],\n",
       " ['sure', 2],\n",
       " ['top', 2],\n",
       " ['whole', 2],\n",
       " ['certain', 2],\n",
       " ['spot', 2],\n",
       " ['through', 2],\n",
       " ['hole', 2],\n",
       " ['giving', 2],\n",
       " ['probably', 2],\n",
       " ['moses', 2],\n",
       " ['pause', 2],\n",
       " ['hitler', 2],\n",
       " ['said', 2],\n",
       " ['minute', 2],\n",
       " ['smiles', 2],\n",
       " ['work', 2],\n",
       " ['gets', 2],\n",
       " ['done', 2],\n",
       " ['gonna', 2],\n",
       " ['hurry', 2],\n",
       " ['hello', 2],\n",
       " ['never', 2],\n",
       " ['guess', 2],\n",
       " ['depends', 2]]"
      ]
     },
     "execution_count": 623,
     "metadata": {},
     "output_type": "execute_result"
    }
   ],
   "source": [
    "from modules.bag_o_words import getBagOfWords\n",
    "\n",
    "bag_h1 = getBagOfWords(dia_h1)\n",
    "bag_v1 = getBagOfWords(dia_v1)\n",
    "bag_h2 = getBagOfWords(dia_h2)\n",
    "bag_v2 = getBagOfWords(dia_v2)\n",
    "\n",
    "bag_h1"
   ]
  },
  {
   "cell_type": "code",
   "execution_count": null,
   "metadata": {
    "collapsed": true
   },
   "outputs": [],
   "source": [
    "from modules.bag_o_words import getBagOfWords\n",
    "\n",
    "emp_X = []\n",
    "emp_y = []\n",
    "vocab = []\n",
    "for index, row in data.iterrows():\n",
    "    emp = getBagOfWords(row['dialogs'])\n",
    "    emp_X.append([i[1] for i in emp])\n",
    "    emp_y.append(row['label'])\n",
    "\n",
    "\n",
    "emp_x_df = pd.DataFrame(X)\n",
    "emp_y_df = pd.DataFrame(y)"
   ]
  },
  {
   "cell_type": "code",
   "execution_count": 625,
   "metadata": {
    "scrolled": true
   },
   "outputs": [],
   "source": [
    "from modules.lin_enquiry import getEmpathAnalysis\n",
    "\n",
    "emp_X = []\n",
    "emp_y = []\n",
    "for index, row in data.iterrows():\n",
    "    emp = getEmpathAnalysis(row['dialogs'])\n",
    "    emp_X.append([i[1] for i in emp])\n",
    "    emp_y.append(row['label'])\n",
    "\n",
    "\n",
    "emp_x_df = pd.DataFrame(emp_X)\n",
    "emp_y_df = pd.DataFrame(emp_y)"
   ]
  },
  {
   "cell_type": "markdown",
   "metadata": {},
   "source": [
    "#### Empath SVM"
   ]
  },
  {
   "cell_type": "code",
   "execution_count": 626,
   "metadata": {},
   "outputs": [
    {
     "name": "stdout",
     "output_type": "stream",
     "text": [
      "Accuracy: 55.667% (5.972%)\n"
     ]
    }
   ],
   "source": [
    "from sklearn import svm\n",
    "# from sklearn.model_selection import train_test_split\n",
    "from sklearn.model_selection import LeaveOneOut, cross_val_score\n",
    "# from sklearn.model_selection import KFold\n",
    "\n",
    "clf = svm.SVC()\n",
    "\n",
    "# Leave one out cross validations\n",
    "# loo = LeaveOneOut()\n",
    "# loo.get_n_splits(X)\n",
    "# scores = cross_val_score(clf, emp_x_df, emp_y_df.values.ravel(), cv=loo)\n",
    "# print(\"Accuracy: %.3f%% (%.3f%%)\" % (scores.mean()*100.0, scores.std()*100.0))\n",
    "\n",
    "\n",
    "scores = cross_val_score(clf, emp_x_df, emp_y_df.values.ravel(), cv=10)\n",
    "print(\"Accuracy: %.3f%% (%.3f%%)\" % (scores.mean()*100.0, scores.std()*100.0))\n",
    "\n",
    "# Train-test split. No cross-validation\n",
    "# X_train, X_test, y_train, y_test = train_test_split(emp_x_df, emp_y_df, test_size=0.2, random_state=5)\n",
    "# clf.fit(X, y)\n",
    "# clf.score(X_test, y_test)"
   ]
  },
  {
   "cell_type": "code",
   "execution_count": 627,
   "metadata": {},
   "outputs": [
    {
     "data": {
      "text/plain": [
       "-0.79166666666666652"
      ]
     },
     "execution_count": 627,
     "metadata": {},
     "output_type": "execute_result"
    }
   ],
   "source": [
    "from sklearn.metrics import r2_score\n",
    "\n",
    "#y_pred = clf.predict(X_test)\n",
    "\n",
    "y_pred = cross_val_predict(clf, emp_x_df, emp_y_df.values.ravel(), cv=10)\n",
    "r2_score(emp_y_df, y_pred)\n"
   ]
  },
  {
   "cell_type": "markdown",
   "metadata": {},
   "source": [
    "#### Empath Random Forest"
   ]
  },
  {
   "cell_type": "code",
   "execution_count": 628,
   "metadata": {},
   "outputs": [
    {
     "name": "stdout",
     "output_type": "stream",
     "text": [
      "Accuracy: 58.167% (16.389%)\n"
     ]
    }
   ],
   "source": [
    "from sklearn.ensemble import RandomForestClassifier\n",
    "from sklearn.model_selection import LeaveOneOut, cross_val_score\n",
    "\n",
    "rf_clf = RandomForestClassifier(n_jobs=2)\n",
    "# rf_clf.fit(X, y)\n",
    "\n",
    "scores = cross_val_score(rf_clf, emp_x_df, emp_y_df.values.ravel(), cv=10)\n",
    "print(\"Accuracy: %.3f%% (%.3f%%)\" % (scores.mean()*100.0, scores.std()*100.0))"
   ]
  },
  {
   "cell_type": "code",
   "execution_count": 630,
   "metadata": {},
   "outputs": [
    {
     "data": {
      "text/plain": [
       "-0.36732456140350855"
      ]
     },
     "execution_count": 630,
     "metadata": {},
     "output_type": "execute_result"
    }
   ],
   "source": [
    "from sklearn.metrics import r2_score\n",
    "\n",
    "#y_pred = clf.predict(X_test)\n",
    "\n",
    "y_pred = cross_val_predict(rf_clf, emp_x_df, emp_y_df.values.ravel(), cv=10)\n",
    "r2_score(emp_test_df, y_pred)\n"
   ]
  },
  {
   "cell_type": "code",
   "execution_count": 681,
   "metadata": {},
   "outputs": [],
   "source": [
    "from modules.emo_analysis import getSentAnalysis\n",
    "\n",
    "emo_aggr = []\n",
    "emo_X = []\n",
    "emo_y = []\n",
    "for index, row in data.iterrows():\n",
    "    emo = getSentAnalysis(row['dialogs'])\n",
    "    emo_X.append([i[1] for i in emo])\n",
    "    emo_y.append(row['label'])\n",
    "    emo_aggr.append(emo)\n",
    "\n",
    "\n",
    "emo_x_df = pd.DataFrame(emo_X)\n",
    "emo_y_df = pd.DataFrame(emo_y)\n"
   ]
  },
  {
   "cell_type": "code",
   "execution_count": 710,
   "metadata": {},
   "outputs": [
    {
     "name": "stdout",
     "output_type": "stream",
     "text": [
      "          anger   disgust      fear       joy   sadness\n",
      "label                                                  \n",
      "0      0.263966  0.120062  0.204035  0.530943  0.429682\n",
      "1      0.336093  0.093142  0.191261  0.542436  0.428851\n"
     ]
    },
    {
     "data": {
      "image/png": "[encoded data removed]",
      "text/plain": [
       "<matplotlib.figure.Figure at 0x7ff3673eb470>"
      ]
     },
     "metadata": {},
     "output_type": "display_data"
    }
   ],
   "source": [
    "import matplotlib.pyplot as plt\n",
    "\n",
    "emo_dict = [dict(x) for x in emo_aggr]\n",
    "emo_df = pd.DataFrame(emo_dict)\n",
    "emo_df['label'] = emo_y_df\n",
    "emo_grouped = emo_df.groupby('label')['anger', 'disgust', 'fear', 'joy', 'sadness'].mean()\n",
    "print(emo_grouped)\n",
    "\n",
    "ax = emo_grouped.plot(kind='bar', title =\"Analysis of Emotions\", figsize=(15, 10), legend=True, fontsize=12)\n",
    "ax.set_xlabel(\"\", fontsize=12)\n",
    "ax.set_ylabel(\"Intensity\", fontsize=12)\n",
    "plt.show()"
   ]
  },
  {
   "cell_type": "markdown",
   "metadata": {},
   "source": [
    "#### Emotions SVM"
   ]
  },
  {
   "cell_type": "code",
   "execution_count": 632,
   "metadata": {},
   "outputs": [
    {
     "name": "stdout",
     "output_type": "stream",
     "text": [
      "Accuracy: 56.250% (4.841%)\n"
     ]
    }
   ],
   "source": [
    "from sklearn import svm\n",
    "# from sklearn.model_selection import train_test_split\n",
    "from sklearn.model_selection import LeaveOneOut, cross_val_score\n",
    "# from sklearn.model_selection import KFold\n",
    "\n",
    "clf = svm.SVC()\n",
    "\n",
    "# Leave one out cross validations\n",
    "# loo = LeaveOneOut()\n",
    "# loo.get_n_splits(X)\n",
    "# scores = cross_val_score(clf, emo_train_df, emo_test_df.values.ravel(), cv=loo)\n",
    "# print(\"Accuracy: %.3f%% (%.3f%%)\" % (scores.mean()*100.0, scores.std()*100.0))\n",
    "\n",
    "\n",
    "scores = cross_val_score(clf, emo_x_df, emo_y_df.values.ravel(), cv=8)\n",
    "print(\"Accuracy: %.3f%% (%.3f%%)\" % (scores.mean()*100.0, scores.std()*100.0))\n",
    "\n",
    "# Train-test split. No cross-validation\n",
    "# X_train, X_test, y_train, y_test = train_test_split(emp_train_df, emp_test_df, test_size=0.2, random_state=5)\n",
    "# clf.fit(X, y)\n",
    "# clf.score(X_test, y_test)"
   ]
  },
  {
   "cell_type": "code",
   "execution_count": 633,
   "metadata": {},
   "outputs": [
    {
     "data": {
      "text/plain": [
       "-0.013706140350877138"
      ]
     },
     "execution_count": 633,
     "metadata": {},
     "output_type": "execute_result"
    }
   ],
   "source": [
    "from sklearn.metrics import r2_score\n",
    "\n",
    "#y_pred = clf.predict(X_test)\n",
    "\n",
    "y_pred = cross_val_predict(clf, emo_x_df, emo_y_df.values.ravel(), cv=10)\n",
    "r2_score(emo_test_df, y_pred)\n"
   ]
  },
  {
   "cell_type": "markdown",
   "metadata": {},
   "source": [
    "#### Emotions Random Forest"
   ]
  },
  {
   "cell_type": "code",
   "execution_count": 634,
   "metadata": {},
   "outputs": [
    {
     "name": "stdout",
     "output_type": "stream",
     "text": [
      "Accuracy: 56.500% (22.699%)\n"
     ]
    }
   ],
   "source": [
    "from sklearn.ensemble import RandomForestClassifier\n",
    "from sklearn.model_selection import LeaveOneOut, cross_val_score\n",
    "\n",
    "rf_clf = RandomForestClassifier(n_jobs=2)\n",
    "# rf_clf.fit(X, y)\n",
    "\n",
    "scores = cross_val_score(rf_clf, emo_x_df, emo_y_df.values.ravel(), cv=10)\n",
    "print(\"Accuracy: %.3f%% (%.3f%%)\" % (scores.mean()*100.0, scores.std()*100.0))"
   ]
  },
  {
   "cell_type": "code",
   "execution_count": 635,
   "metadata": {},
   "outputs": [
    {
     "data": {
      "text/plain": [
       "-0.98026315789473673"
      ]
     },
     "execution_count": 635,
     "metadata": {},
     "output_type": "execute_result"
    }
   ],
   "source": [
    "from sklearn.metrics import r2_score\n",
    "\n",
    "#y_pred = clf.predict(X_test)\n",
    "\n",
    "y_pred = cross_val_predict(rf_clf, emo_x_df, emo_y_df.values.ravel(), cv=10)\n",
    "r2_score(emo_y_df, y_pred)\n"
   ]
  },
  {
   "cell_type": "code",
   "execution_count": null,
   "metadata": {
    "collapsed": true
   },
   "outputs": [],
   "source": [
    "import gensim\n",
    "import os\n",
    "importlib.reload(modules.w2v)\n",
    "from modules.w2v import modelW2V\n",
    "\n",
    "w2v_loc = \"/home/shail/work/UIC/snlp/predictor/Data/word2vec\"\n"
   ]
  },
  {
   "cell_type": "markdown",
   "metadata": {},
   "source": [
    "# Training Word2Vec : Watchout! Don't run unless needed"
   ]
  },
  {
   "cell_type": "code",
   "execution_count": null,
   "metadata": {
    "collapsed": true
   },
   "outputs": [],
   "source": [
    "data_loc = '/home/shail/work/UIC/snlp/predictor/Data/dialogs'\n",
    "\n",
    "model = modelW2V(w2v_loc, data_loc)"
   ]
  },
  {
   "cell_type": "code",
   "execution_count": null,
   "metadata": {
    "collapsed": true
   },
   "outputs": [],
   "source": []
  },
  {
   "cell_type": "markdown",
   "metadata": {},
   "source": [
    "### End of Watchout"
   ]
  },
  {
   "cell_type": "code",
   "execution_count": 134,
   "metadata": {},
   "outputs": [
    {
     "name": "stdout",
     "output_type": "stream",
     "text": [
      "#words = 58485, vector size = 100\n"
     ]
    }
   ],
   "source": [
    "if 'model' not in locals() or 'model' not in globals():\n",
    "    model = gensim.models.Word2Vec.load(word2vec_loc)\n",
    "\n",
    "word_vectors = model.wv.syn0\n",
    "n_words = word_vectors.shape[0]\n",
    "vec_size = word_vectors.shape[1]\n",
    "print(\"#words = {0}, vector size = {1}\".format(n_words, vec_size))"
   ]
  },
  {
   "cell_type": "code",
   "execution_count": 771,
   "metadata": {},
   "outputs": [
    {
     "data": {
      "text/plain": [
       "'cat bird soldier magic wolf priest dragon beast thief doll plain mouse smells chick toy fighter golden guardians broad bull devils shark stunt demon cookie parade pet wrestling nun fever rabbit tiger bears dancer burger rap goat madman buff phrase messenger poster deer goose chevy geek grunt postcard burglar teenager abbotts deuce thai sap fashioned gigantic sporting pup vendor'"
      ]
     },
     "execution_count": 771,
     "metadata": {},
     "output_type": "execute_result"
    }
   ],
   "source": [
    "from sklearn.cluster import MiniBatchKMeans\n",
    "\n",
    "kmeans = MiniBatchKMeans(n_clusters=200, random_state=0)\n",
    "idx = kmeans.fit_predict(word_vectors)\n",
    "\n",
    "word_centroid_list = list(zip(model.wv.index2word, idx))\n",
    "word_centroid_list_sort = sorted(word_centroid_list, key=lambda el: el[1], reverse=True)\n",
    "pd.DataFrame(word_centroid_list_sort).groupby(1).apply(lambda x: ' '.join(x[0]))[145]"
   ]
  },
  {
   "cell_type": "code",
   "execution_count": 655,
   "metadata": {},
   "outputs": [],
   "source": [
    "from modules.w2v import doc2ClusterVec\n",
    "\n",
    "w2v_X = []\n",
    "w2v_y = []\n",
    "for index, row in data.iterrows():\n",
    "    w2v = doc2ClusterVec(row['dialogs'], kmeans, model)\n",
    "    w2v_X.append(w2v)\n",
    "    w2v_y.append(row['label'])\n",
    "\n",
    "\n",
    "w2v_x_df = pd.DataFrame(w2v_X)\n",
    "w2v_y_df = pd.DataFrame(w2v_y)"
   ]
  },
  {
   "cell_type": "markdown",
   "metadata": {},
   "source": [
    "#### Word2Vec SVM"
   ]
  },
  {
   "cell_type": "code",
   "execution_count": 652,
   "metadata": {},
   "outputs": [
    {
     "name": "stdout",
     "output_type": "stream",
     "text": [
      "Accuracy: 56.250% (4.841%)\n"
     ]
    }
   ],
   "source": [
    "from sklearn import svm\n",
    "# from sklearn.model_selection import train_test_split\n",
    "from sklearn.model_selection import LeaveOneOut, cross_val_score\n",
    "# from sklearn.model_selection import KFold\n",
    "\n",
    "clf = svm.SVC()\n",
    "\n",
    "# Leave one out cross validations\n",
    "# loo = LeaveOneOut()\n",
    "# loo.get_n_splits(X)\n",
    "# scores = cross_val_score(clf, emo_train_df, emo_test_df.values.ravel(), cv=loo)\n",
    "# print(\"Accuracy: %.3f%% (%.3f%%)\" % (scores.mean()*100.0, scores.std()*100.0))\n",
    "\n",
    "\n",
    "scores = cross_val_score(clf, w2v_x_df, w2v_y_df.values.ravel(), cv=8)\n",
    "print(\"Accuracy: %.3f%% (%.3f%%)\" % (scores.mean()*100.0, scores.std()*100.0))\n",
    "\n",
    "# Train-test split. No cross-validation\n",
    "# X_train, X_test, y_train, y_test = train_test_split(emp_train_df, emp_test_df, test_size=0.2, random_state=5)\n",
    "# clf.fit(X, y)\n",
    "# clf.score(X_test, y_test)"
   ]
  },
  {
   "cell_type": "code",
   "execution_count": 654,
   "metadata": {},
   "outputs": [
    {
     "name": "stderr",
     "output_type": "stream",
     "text": [
      "/home/shail/anaconda3/lib/python3.6/site-packages/sklearn/metrics/classification.py:1135: UndefinedMetricWarning: F-score is ill-defined and being set to 0.0 due to no predicted samples.\n",
      "  'precision', 'predicted', average, warn_for)\n"
     ]
    },
    {
     "data": {
      "text/plain": [
       "array([0, 0, 0, 0, 0, 0, 0, 0, 0, 0, 0, 0, 0, 0, 0, 0, 0, 0, 0, 0, 0, 0, 0,\n",
       "       0, 0, 0, 0, 0, 0, 0, 0, 0, 0, 0, 0, 0, 0, 0, 0, 0, 0, 0, 0])"
      ]
     },
     "execution_count": 654,
     "metadata": {},
     "output_type": "execute_result"
    }
   ],
   "source": [
    "from sklearn.metrics import r2_score, f1_score\n",
    "\n",
    "#y_pred = clf.predict(X_test)\n",
    "\n",
    "y_pred = cross_val_predict(clf, w2v_x_df, w2v_y_df.values.ravel(), cv=8)\n",
    "r2_score(w2v_y_df, y_pred)\n",
    "f1_score(w2v_y_df, y_pred)\n"
   ]
  },
  {
   "cell_type": "markdown",
   "metadata": {},
   "source": [
    "#### Word2Vec Random Forest"
   ]
  },
  {
   "cell_type": "code",
   "execution_count": 641,
   "metadata": {},
   "outputs": [
    {
     "name": "stdout",
     "output_type": "stream",
     "text": [
      "Accuracy: 56.250% (4.841%)\n"
     ]
    }
   ],
   "source": [
    "from sklearn.ensemble import RandomForestClassifier\n",
    "from sklearn.model_selection import LeaveOneOut, cross_val_score\n",
    "\n",
    "rf_clf = RandomForestClassifier(n_jobs=2)\n",
    "# rf_clf.fit(X, y)\n",
    "\n",
    "scores = cross_val_score(rf_clf, w2v_x_df, w2v_y_df.values.ravel(), cv=8)\n",
    "print(\"Accuracy: %.3f%% (%.3f%%)\" % (scores.mean()*100.0, scores.std()*100.0))"
   ]
  },
  {
   "cell_type": "code",
   "execution_count": 657,
   "metadata": {},
   "outputs": [
    {
     "data": {
      "text/plain": [
       "0.45714285714285713"
      ]
     },
     "execution_count": 657,
     "metadata": {},
     "output_type": "execute_result"
    }
   ],
   "source": [
    "from sklearn.metrics import r2_score, f1_score\n",
    "\n",
    "#y_pred = clf.predict(X_test)\n",
    "\n",
    "y_pred = cross_val_predict(rf_clf, w2v_x_df, w2v_y_df.values.ravel(), cv=8)\n",
    "r2_score(w2v_y_df, y_pred)\n",
    "f1_score(w2v_y_df, y_pred)"
   ]
  },
  {
   "cell_type": "code",
   "execution_count": null,
   "metadata": {
    "collapsed": true
   },
   "outputs": [],
   "source": []
  }
 ],
 "metadata": {
  "kernelspec": {
   "display_name": "Python 3",
   "language": "python",
   "name": "python3"
  },
  "language_info": {
   "codemirror_mode": {
    "name": "ipython",
    "version": 3
   },
   "file_extension": ".py",
   "mimetype": "text/x-python",
   "name": "python",
   "nbconvert_exporter": "python",
   "pygments_lexer": "ipython3",
   "version": "3.6.3"
  }
 },
 "nbformat": 4,
 "nbformat_minor": 2
}
